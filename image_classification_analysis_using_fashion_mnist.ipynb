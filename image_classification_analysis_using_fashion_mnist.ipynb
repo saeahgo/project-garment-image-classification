{
  "cells": [
    {
      "cell_type": "code",
      "execution_count": null,
      "id": "0497514a",
      "metadata": {
        "id": "0497514a"
      },
      "outputs": [],
      "source": [
        "import numpy as np\n",
        "import torch\n",
        "import torch.nn as nn\n",
        "import torch.optim as optim\n",
        "import torchvision\n",
        "from torchvision import datasets, transforms\n",
        "from torch.utils.data import DataLoader\n",
        "from collections import defaultdict\n",
        "\n",
        "import warnings\n",
        "warnings.filterwarnings(\"ignore\", category=FutureWarning)"
      ]
    },
    {
      "cell_type": "code",
      "execution_count": null,
      "id": "3931c8b7",
      "metadata": {
        "id": "3931c8b7"
      },
      "outputs": [],
      "source": [
        "# datasets\n",
        "transforms = transforms.Compose([\n",
        "    transforms.Grayscale(),                    # Convert to grayscale\n",
        "    transforms.Resize((28, 28)),               # Resize to 28x28\n",
        "    transforms.ToTensor(),                     # Convert to tensor and normalize\n",
        "])\n",
        "\n",
        "trainset = torchvision.datasets.FashionMNIST('./data',\n",
        "    download=True,\n",
        "    train=True,\n",
        "    transform=transforms)\n",
        "testset = torchvision.datasets.FashionMNIST('./data',\n",
        "    download=True,\n",
        "    train=False,\n",
        "    transform=transforms)\n",
        "\n",
        "# constant for classes\n",
        "classes = ('T-shirt/top', 'Trouser', 'Pullover', 'Dress', 'Coat',\n",
        "'Sandal', 'Shirt', 'Sneaker', 'Bag', 'Ankle Boot')"
      ]
    },
    {
      "cell_type": "markdown",
      "id": "df1c92c0",
      "metadata": {
        "id": "df1c92c0"
      },
      "source": [
        "# For single FC NN\n",
        "Input 784 x 1 \\\n",
        "Hidden layer: W 1024 x 784, b 1024 x 1 \\\n",
        "Output 10 x 1\n",
        "\n",
        "# For 2 FC NN\n",
        "Input 784 x 1 \\\n",
        "Hidden layer 1: W1 1024 x 784, b1 1024 x 1 \\\n",
        "Hidden layer 2: W2 1024 x 1024, b2 1024 x 1 \\\n",
        "Output layer W3 10 x 1024, b3 10 x 1"
      ]
    },
    {
      "cell_type": "markdown",
      "id": "21dc5110",
      "metadata": {
        "id": "21dc5110"
      },
      "source": [
        "# Q2"
      ]
    },
    {
      "cell_type": "code",
      "execution_count": null,
      "id": "2de6d2d9",
      "metadata": {
        "id": "2de6d2d9"
      },
      "outputs": [],
      "source": [
        "# Model with 1 Fully Connected Layer\n",
        "class SingleFCLayer(nn.Module):\n",
        "    def __init__(self):\n",
        "        super(SingleFCLayer, self).__init__()\n",
        "        self.fc1 = nn.Linear(784, 1024)  # Input -> Hidden\n",
        "        self.fc2 = nn.Linear(1024, 10)  # Hidden -> Output\n",
        "\n",
        "    def forward(self, x):\n",
        "        x = x.view(-1, 784)  # Flatten 28x28 input\n",
        "        x = torch.relu(self.fc1(x))\n",
        "        x = self.fc2(x)\n",
        "        return x"
      ]
    },
    {
      "cell_type": "code",
      "execution_count": null,
      "id": "3c3e175c",
      "metadata": {
        "id": "3c3e175c"
      },
      "outputs": [],
      "source": [
        "# Training and Evaluation Function\n",
        "def train_and_evaluate(model, batch_size, learning_rate, activation, epochs, trainset, testset):\n",
        "    # dataloaders\n",
        "    trainloader = torch.utils.data.DataLoader(trainset, batch_size=batch_size, shuffle=True, num_workers=2)\n",
        "    testloader = torch.utils.data.DataLoader(testset, batch_size=batch_size, shuffle=False, num_workers=2)\n",
        "\n",
        "\n",
        "    # Initialize Loss and Optimizer\n",
        "    criterion = nn.CrossEntropyLoss()\n",
        "    optimizer = optim.SGD(model.parameters(), lr=learning_rate)\n",
        "\n",
        "    for epoch in range(epochs):\n",
        "        # Training phase\n",
        "        model.train()\n",
        "        correct_train = 0\n",
        "        total_train = 0\n",
        "        train_loss = 0\n",
        "\n",
        "        for inputs, labels in trainloader:\n",
        "            outputs = model(inputs)\n",
        "            loss = criterion(outputs, labels)\n",
        "            optimizer.zero_grad()\n",
        "            loss.backward()\n",
        "            optimizer.step()\n",
        "\n",
        "            # Track accuracy\n",
        "            _, predicted = outputs.max(1)\n",
        "            correct_train += (predicted == labels).sum().item()\n",
        "            total_train += labels.size(0)\n",
        "            train_loss += loss.item()\n",
        "\n",
        "        train_accuracy = correct_train / total_train * 100\n",
        "\n",
        "        # Validation/Test phase\n",
        "        model.eval()\n",
        "        correct_test = 0\n",
        "        total_test = 0\n",
        "        test_loss = 0\n",
        "\n",
        "        with torch.no_grad():\n",
        "            for inputs, labels in testloader:\n",
        "                outputs = model(inputs)\n",
        "                loss = criterion(outputs, labels)\n",
        "\n",
        "                # Track accuracy\n",
        "                _, predicted = outputs.max(1)\n",
        "                correct_test += (predicted == labels).sum().item()\n",
        "                total_test += labels.size(0)\n",
        "                test_loss += loss.item()\n",
        "\n",
        "        test_accuracy = correct_test / total_test * 100\n",
        "\n",
        "        print(f\"Epoch {epoch+1}:\",\n",
        "              f\"Train Accuracy: {train_accuracy:.2f}% | Test Accuracy: {test_accuracy:.2f}%\",\n",
        "              f\"Train Loss: {train_loss / len(trainloader):.4f} | Test Loss: {test_loss / len(testloader):.4f}\")\n",
        "\n",
        "    print(f\"Batch Size: {batch_size}, Learning Rate: {learning_rate}, Activation: {activation}, Final Train Accuracy: {train_accuracy:.2f}%, Final Test Accuracy: {test_accuracy:.2f}%\")\n",
        "\n",
        "    return model, train_accuracy, test_accuracy"
      ]
    },
    {
      "cell_type": "code",
      "execution_count": null,
      "id": "db907c5a",
      "metadata": {
        "colab": {
          "base_uri": "https://localhost:8080/"
        },
        "id": "db907c5a",
        "outputId": "8daa1734-d594-400e-e81d-5a11a7109be3"
      },
      "outputs": [
        {
          "output_type": "stream",
          "name": "stdout",
          "text": [
            "Epoch 1: Train Accuracy: 58.42% | Test Accuracy: 65.38% Train Loss: 1.6754 | Test Loss: 1.2383\n",
            "Epoch 2: Train Accuracy: 68.12% | Test Accuracy: 68.85% Train Loss: 1.0464 | Test Loss: 0.9344\n",
            "Epoch 3: Train Accuracy: 72.05% | Test Accuracy: 72.47% Train Loss: 0.8548 | Test Loss: 0.8155\n",
            "Epoch 4: Train Accuracy: 74.69% | Test Accuracy: 74.69% Train Loss: 0.7651 | Test Loss: 0.7504\n",
            "Epoch 5: Train Accuracy: 76.53% | Test Accuracy: 76.00% Train Loss: 0.7088 | Test Loss: 0.7035\n",
            "Epoch 6: Train Accuracy: 77.96% | Test Accuracy: 77.37% Train Loss: 0.6681 | Test Loss: 0.6688\n",
            "Epoch 7: Train Accuracy: 79.03% | Test Accuracy: 78.14% Train Loss: 0.6367 | Test Loss: 0.6423\n",
            "Epoch 8: Train Accuracy: 80.02% | Test Accuracy: 78.73% Train Loss: 0.6119 | Test Loss: 0.6198\n",
            "Epoch 9: Train Accuracy: 80.53% | Test Accuracy: 79.55% Train Loss: 0.5912 | Test Loss: 0.6020\n",
            "Epoch 10: Train Accuracy: 81.03% | Test Accuracy: 80.03% Train Loss: 0.5742 | Test Loss: 0.5876\n",
            "Epoch 11: Train Accuracy: 81.52% | Test Accuracy: 80.47% Train Loss: 0.5597 | Test Loss: 0.5749\n",
            "Epoch 12: Train Accuracy: 81.84% | Test Accuracy: 80.58% Train Loss: 0.5473 | Test Loss: 0.5640\n",
            "Epoch 13: Train Accuracy: 82.16% | Test Accuracy: 81.25% Train Loss: 0.5365 | Test Loss: 0.5538\n",
            "Epoch 14: Train Accuracy: 82.40% | Test Accuracy: 81.39% Train Loss: 0.5271 | Test Loss: 0.5463\n",
            "Epoch 15: Train Accuracy: 82.67% | Test Accuracy: 81.48% Train Loss: 0.5186 | Test Loss: 0.5392\n",
            "Epoch 16: Train Accuracy: 82.89% | Test Accuracy: 81.78% Train Loss: 0.5110 | Test Loss: 0.5320\n",
            "Epoch 17: Train Accuracy: 83.00% | Test Accuracy: 81.86% Train Loss: 0.5044 | Test Loss: 0.5273\n",
            "Epoch 18: Train Accuracy: 83.23% | Test Accuracy: 82.00% Train Loss: 0.4982 | Test Loss: 0.5205\n",
            "Epoch 19: Train Accuracy: 83.38% | Test Accuracy: 82.15% Train Loss: 0.4926 | Test Loss: 0.5151\n",
            "Epoch 20: Train Accuracy: 83.47% | Test Accuracy: 82.34% Train Loss: 0.4872 | Test Loss: 0.5105\n",
            "Epoch 21: Train Accuracy: 83.59% | Test Accuracy: 82.30% Train Loss: 0.4824 | Test Loss: 0.5068\n",
            "Epoch 22: Train Accuracy: 83.84% | Test Accuracy: 82.57% Train Loss: 0.4780 | Test Loss: 0.5025\n",
            "Epoch 23: Train Accuracy: 83.86% | Test Accuracy: 82.70% Train Loss: 0.4740 | Test Loss: 0.4992\n",
            "Epoch 24: Train Accuracy: 83.95% | Test Accuracy: 82.87% Train Loss: 0.4702 | Test Loss: 0.4952\n",
            "Epoch 25: Train Accuracy: 84.13% | Test Accuracy: 82.90% Train Loss: 0.4665 | Test Loss: 0.4927\n",
            "Epoch 26: Train Accuracy: 84.23% | Test Accuracy: 82.66% Train Loss: 0.4631 | Test Loss: 0.4909\n",
            "Epoch 27: Train Accuracy: 84.25% | Test Accuracy: 83.14% Train Loss: 0.4599 | Test Loss: 0.4866\n",
            "Epoch 28: Train Accuracy: 84.43% | Test Accuracy: 82.95% Train Loss: 0.4569 | Test Loss: 0.4847\n",
            "Epoch 29: Train Accuracy: 84.50% | Test Accuracy: 83.14% Train Loss: 0.4539 | Test Loss: 0.4816\n",
            "Epoch 30: Train Accuracy: 84.62% | Test Accuracy: 83.18% Train Loss: 0.4512 | Test Loss: 0.4789\n",
            "Batch Size: 30, Learning Rate: 0.001, Activation: relu, Final Train Accuracy: 84.62%, Final Test Accuracy: 83.18%\n"
          ]
        }
      ],
      "source": [
        "# Define hyperparameters\n",
        "learning_rate = 0.001\n",
        "momentum = 0\n",
        "batch_size = 30\n",
        "epochs = 30\n",
        "activation = 'relu' # Can be 'relu' or 'sigmoid'\n",
        "\n",
        "# Initialize Model, Loss, and Optimizer\n",
        "model = SingleFCLayer()\n",
        "\n",
        "# Call the training and evaluation function\n",
        "model, train_accuracy, test_accuracy = train_and_evaluate(model, batch_size, learning_rate, activation, epochs, trainset, testset)"
      ]
    },
    {
      "cell_type": "code",
      "execution_count": null,
      "id": "eaecad3c",
      "metadata": {
        "id": "eaecad3c"
      },
      "outputs": [],
      "source": [
        "# Model with 2 Fully Connected Layers\n",
        "class TwoFCLayers(nn.Module):\n",
        "    def __init__(self):\n",
        "        super(TwoFCLayers, self).__init__()\n",
        "        self.fc1 = nn.Linear(784, 1024)  # Input -> Hidden1\n",
        "        self.fc2 = nn.Linear(1024, 1024)  # Hidden1 -> Hidden2\n",
        "        self.fc3 = nn.Linear(1024, 10)  # Hidden2 -> Output\n",
        "\n",
        "    def forward(self, x):\n",
        "        x = x.view(-1, 784)  # Flatten 28x28 input\n",
        "        x = torch.relu(self.fc1(x))\n",
        "        x = torch.relu(self.fc2(x))\n",
        "        x = self.fc3(x)\n",
        "        return x"
      ]
    },
    {
      "cell_type": "code",
      "execution_count": null,
      "id": "d8887ff9",
      "metadata": {
        "colab": {
          "base_uri": "https://localhost:8080/"
        },
        "id": "d8887ff9",
        "outputId": "6dc68d3a-da2d-4108-9b13-c782671f2677"
      },
      "outputs": [
        {
          "output_type": "stream",
          "name": "stdout",
          "text": [
            "Epoch 1: Train Accuracy: 49.76% | Test Accuracy: 57.42% Train Loss: 2.0553 | Test Loss: 1.7102\n",
            "Epoch 2: Train Accuracy: 63.85% | Test Accuracy: 65.23% Train Loss: 1.3517 | Test Loss: 1.1073\n",
            "Epoch 3: Train Accuracy: 67.57% | Test Accuracy: 67.78% Train Loss: 0.9753 | Test Loss: 0.8968\n",
            "Epoch 4: Train Accuracy: 70.90% | Test Accuracy: 70.50% Train Loss: 0.8283 | Test Loss: 0.7974\n",
            "Epoch 5: Train Accuracy: 73.64% | Test Accuracy: 73.69% Train Loss: 0.7503 | Test Loss: 0.7374\n",
            "Epoch 6: Train Accuracy: 75.80% | Test Accuracy: 75.57% Train Loss: 0.6977 | Test Loss: 0.6922\n",
            "Epoch 7: Train Accuracy: 77.51% | Test Accuracy: 77.43% Train Loss: 0.6573 | Test Loss: 0.6575\n",
            "Epoch 8: Train Accuracy: 78.90% | Test Accuracy: 77.85% Train Loss: 0.6245 | Test Loss: 0.6302\n",
            "Epoch 9: Train Accuracy: 79.88% | Test Accuracy: 79.21% Train Loss: 0.5974 | Test Loss: 0.6044\n",
            "Epoch 10: Train Accuracy: 80.58% | Test Accuracy: 79.59% Train Loss: 0.5749 | Test Loss: 0.5854\n",
            "Epoch 11: Train Accuracy: 81.23% | Test Accuracy: 80.36% Train Loss: 0.5560 | Test Loss: 0.5710\n",
            "Epoch 12: Train Accuracy: 81.67% | Test Accuracy: 80.67% Train Loss: 0.5403 | Test Loss: 0.5543\n",
            "Epoch 13: Train Accuracy: 82.13% | Test Accuracy: 81.43% Train Loss: 0.5269 | Test Loss: 0.5447\n",
            "Epoch 14: Train Accuracy: 82.45% | Test Accuracy: 81.19% Train Loss: 0.5154 | Test Loss: 0.5349\n",
            "Epoch 15: Train Accuracy: 82.71% | Test Accuracy: 81.69% Train Loss: 0.5054 | Test Loss: 0.5246\n",
            "Epoch 16: Train Accuracy: 83.00% | Test Accuracy: 81.75% Train Loss: 0.4964 | Test Loss: 0.5187\n",
            "Epoch 17: Train Accuracy: 83.20% | Test Accuracy: 82.09% Train Loss: 0.4887 | Test Loss: 0.5111\n",
            "Epoch 18: Train Accuracy: 83.46% | Test Accuracy: 81.80% Train Loss: 0.4820 | Test Loss: 0.5122\n",
            "Epoch 19: Train Accuracy: 83.52% | Test Accuracy: 82.50% Train Loss: 0.4756 | Test Loss: 0.4990\n",
            "Epoch 20: Train Accuracy: 83.78% | Test Accuracy: 82.47% Train Loss: 0.4699 | Test Loss: 0.4957\n",
            "Epoch 21: Train Accuracy: 83.94% | Test Accuracy: 82.70% Train Loss: 0.4649 | Test Loss: 0.4908\n",
            "Epoch 22: Train Accuracy: 84.00% | Test Accuracy: 82.79% Train Loss: 0.4600 | Test Loss: 0.4858\n",
            "Epoch 23: Train Accuracy: 84.14% | Test Accuracy: 82.97% Train Loss: 0.4554 | Test Loss: 0.4825\n",
            "Epoch 24: Train Accuracy: 84.29% | Test Accuracy: 83.06% Train Loss: 0.4513 | Test Loss: 0.4797\n",
            "Epoch 25: Train Accuracy: 84.49% | Test Accuracy: 83.21% Train Loss: 0.4472 | Test Loss: 0.4760\n",
            "Epoch 26: Train Accuracy: 84.55% | Test Accuracy: 83.08% Train Loss: 0.4437 | Test Loss: 0.4761\n",
            "Epoch 27: Train Accuracy: 84.72% | Test Accuracy: 83.20% Train Loss: 0.4404 | Test Loss: 0.4710\n",
            "Epoch 28: Train Accuracy: 84.79% | Test Accuracy: 83.38% Train Loss: 0.4369 | Test Loss: 0.4685\n",
            "Epoch 29: Train Accuracy: 84.91% | Test Accuracy: 83.55% Train Loss: 0.4338 | Test Loss: 0.4652\n",
            "Epoch 30: Train Accuracy: 85.12% | Test Accuracy: 83.67% Train Loss: 0.4307 | Test Loss: 0.4616\n",
            "Batch Size: 30, Learning Rate: 0.001, Activation: relu, Final Train Accuracy: 85.12%, Final Test Accuracy: 83.67%\n"
          ]
        }
      ],
      "source": [
        "# Define hyperparameters\n",
        "learning_rate = 0.001\n",
        "momentum = 0\n",
        "batch_size = 30\n",
        "epochs = 30\n",
        "activation = 'relu' # Can be 'relu' or 'sigmoid'\n",
        "\n",
        "# Initialize Model\n",
        "model = TwoFCLayers()\n",
        "\n",
        "# Call the training and evaluation function\n",
        "model, train_accuracy, test_accuracy = train_and_evaluate(model, batch_size, learning_rate, activation, epochs, trainset, testset)"
      ]
    },
    {
      "cell_type": "markdown",
      "id": "3719594f",
      "metadata": {
        "id": "3719594f"
      },
      "source": [
        "# Q3"
      ]
    },
    {
      "cell_type": "code",
      "execution_count": null,
      "id": "cc1536b2",
      "metadata": {
        "id": "cc1536b2"
      },
      "outputs": [],
      "source": [
        "# Model with 2 Fully Connected Layers, Flexible Activation Choices\n",
        "class TwoFCLayersWithFlexibleActivation(TwoFCLayers):\n",
        "    def __init__(self, activation='relu'):\n",
        "        super().__init__()  # Initialize the base class\n",
        "        self.activation = activation\n",
        "\n",
        "    def forward(self, x):\n",
        "        x = x.view(-1, 784)  # Flatten 28x28 input\n",
        "        if self.activation == 'relu':\n",
        "            act_fn = torch.relu\n",
        "        elif self.activation == 'sigmoid':\n",
        "            act_fn = torch.sigmoid\n",
        "        else:\n",
        "            raise ValueError(f\"Unsupported activation function: {self.activation}\")\n",
        "        x = act_fn(self.fc1(x))\n",
        "        x = act_fn(self.fc2(x))\n",
        "        x = self.fc3(x)\n",
        "        return x"
      ]
    },
    {
      "cell_type": "code",
      "execution_count": null,
      "id": "88ebc44e",
      "metadata": {
        "colab": {
          "base_uri": "https://localhost:8080/"
        },
        "id": "88ebc44e",
        "outputId": "c2a9a812-e60e-4734-f48d-1dce03b06cc0"
      },
      "outputs": [
        {
          "output_type": "stream",
          "name": "stdout",
          "text": [
            "Epoch 1: Train Accuracy: 64.49% | Test Accuracy: 77.38% Train Loss: 0.9170 | Test Loss: 0.6033\n",
            "Epoch 2: Train Accuracy: 80.27% | Test Accuracy: 81.99% Train Loss: 0.5353 | Test Loss: 0.5042\n",
            "Epoch 3: Train Accuracy: 82.94% | Test Accuracy: 83.65% Train Loss: 0.4691 | Test Loss: 0.4567\n",
            "Epoch 4: Train Accuracy: 84.19% | Test Accuracy: 82.05% Train Loss: 0.4353 | Test Loss: 0.4819\n",
            "Epoch 5: Train Accuracy: 84.95% | Test Accuracy: 83.50% Train Loss: 0.4106 | Test Loss: 0.4393\n",
            "Epoch 6: Train Accuracy: 85.69% | Test Accuracy: 85.05% Train Loss: 0.3933 | Test Loss: 0.4089\n",
            "Epoch 7: Train Accuracy: 86.11% | Test Accuracy: 84.55% Train Loss: 0.3785 | Test Loss: 0.4414\n",
            "Epoch 8: Train Accuracy: 86.55% | Test Accuracy: 84.76% Train Loss: 0.3669 | Test Loss: 0.4138\n",
            "Epoch 9: Train Accuracy: 86.88% | Test Accuracy: 84.95% Train Loss: 0.3560 | Test Loss: 0.4041\n",
            "Epoch 10: Train Accuracy: 87.21% | Test Accuracy: 86.13% Train Loss: 0.3465 | Test Loss: 0.3841\n",
            "Epoch 11: Train Accuracy: 87.52% | Test Accuracy: 85.53% Train Loss: 0.3387 | Test Loss: 0.3957\n",
            "Epoch 12: Train Accuracy: 87.87% | Test Accuracy: 86.34% Train Loss: 0.3312 | Test Loss: 0.3819\n",
            "Epoch 13: Train Accuracy: 88.05% | Test Accuracy: 85.90% Train Loss: 0.3229 | Test Loss: 0.3874\n",
            "Epoch 14: Train Accuracy: 88.27% | Test Accuracy: 86.95% Train Loss: 0.3166 | Test Loss: 0.3644\n",
            "Epoch 15: Train Accuracy: 88.46% | Test Accuracy: 87.43% Train Loss: 0.3100 | Test Loss: 0.3553\n",
            "Epoch 16: Train Accuracy: 88.81% | Test Accuracy: 86.70% Train Loss: 0.3037 | Test Loss: 0.3683\n",
            "Epoch 17: Train Accuracy: 88.84% | Test Accuracy: 86.55% Train Loss: 0.2978 | Test Loss: 0.3776\n",
            "Epoch 18: Train Accuracy: 89.00% | Test Accuracy: 87.10% Train Loss: 0.2931 | Test Loss: 0.3597\n",
            "Epoch 19: Train Accuracy: 89.15% | Test Accuracy: 87.16% Train Loss: 0.2885 | Test Loss: 0.3557\n",
            "Epoch 20: Train Accuracy: 89.28% | Test Accuracy: 86.93% Train Loss: 0.2832 | Test Loss: 0.3617\n",
            "Batch Size: 10, Learning Rate: 0.1, Activation: sigmoid, Final Train Accuracy: 89.28%, Final Test Accuracy: 86.93%\n"
          ]
        }
      ],
      "source": [
        "# Define hyperparameters\n",
        "batch_size = 10\n",
        "learning_rate = 0.1\n",
        "activation = 'sigmoid'  # Can be 'relu' or 'sigmoid'\n",
        "epochs = 20\n",
        "\n",
        "# Initialize Model, Loss, and Optimizer\n",
        "model = TwoFCLayersWithFlexibleActivation(activation=activation)\n",
        "\n",
        "# Call the training and evaluation function\n",
        "model, train_accuracy, test_accuracy = train_and_evaluate(model, batch_size, learning_rate, activation, epochs, trainset, testset)"
      ]
    },
    {
      "cell_type": "code",
      "execution_count": null,
      "id": "fe51e5dc",
      "metadata": {
        "scrolled": false,
        "id": "fe51e5dc"
      },
      "outputs": [],
      "source": [
        "# Save the model for Q5\n",
        "torch.save(model.state_dict(), 'best_model_parameter.pth')"
      ]
    },
    {
      "cell_type": "markdown",
      "id": "9bfe99b5",
      "metadata": {
        "id": "9bfe99b5"
      },
      "source": [
        "Q4 a Pollute the trainset"
      ]
    },
    {
      "cell_type": "code",
      "execution_count": null,
      "id": "cea7889b",
      "metadata": {
        "colab": {
          "base_uri": "https://localhost:8080/"
        },
        "id": "cea7889b",
        "outputId": "885371b0-3141-4620-a2f6-04199b6375da"
      },
      "outputs": [
        {
          "output_type": "stream",
          "name": "stdout",
          "text": [
            "Class 0 has 6000 images before pollution.\n",
            "Class 1 has 6000 images before pollution.\n",
            "Class 2 has 6000 images before pollution.\n",
            "Class 3 has 6000 images before pollution.\n",
            "Class 4 has 6000 images before pollution.\n",
            "Class 5 has 6000 images before pollution.\n",
            "Class 6 has 6000 images before pollution.\n",
            "Class 7 has 6000 images before pollution.\n",
            "Class 8 has 6000 images before pollution.\n",
            "Class 9 has 6000 images before pollution.\n"
          ]
        }
      ],
      "source": [
        "# Check the balance of the trainset before the pollution\n",
        "import numpy as np\n",
        "from copy import deepcopy\n",
        "from torch.utils.data import DataLoader, Dataset\n",
        "\n",
        "# Group the training data by class\n",
        "num_classes = 10  # Our data has 10 classes\n",
        "training_data = {class_label: [] for class_label in range(num_classes)}\n",
        "\n",
        "# Organize images by class\n",
        "for image, label in trainset:\n",
        "    training_data[label].append((image, label))  # Store as (image, label) tuples\n",
        "\n",
        "# Verify initial class sizes before pollution\n",
        "for class_label in range(num_classes):\n",
        "    print(f\"Class {class_label} has {len(training_data[class_label])} images before pollution.\")"
      ]
    },
    {
      "cell_type": "code",
      "execution_count": null,
      "id": "1ab7a28b",
      "metadata": {
        "colab": {
          "base_uri": "https://localhost:8080/"
        },
        "id": "1ab7a28b",
        "outputId": "99208647-a96b-4a8e-ebe9-92c0d0ca2950"
      },
      "outputs": [
        {
          "output_type": "stream",
          "name": "stdout",
          "text": [
            "Class 0 has 6000 images after balancing.\n",
            "Class 1 has 6000 images after balancing.\n",
            "Class 2 has 6000 images after balancing.\n",
            "Class 3 has 6000 images after balancing.\n",
            "Class 4 has 6000 images after balancing.\n",
            "Class 5 has 6000 images after balancing.\n",
            "Class 6 has 6000 images after balancing.\n",
            "Class 7 has 6000 images after balancing.\n",
            "Class 8 has 6000 images after balancing.\n",
            "Class 9 has 6000 images after balancing.\n"
          ]
        }
      ],
      "source": [
        "# Pollute the dataset and check the balance of the polluted dataset\n",
        "# Deep copy the training data for pollution\n",
        "polluted_data = deepcopy(training_data)\n",
        "\n",
        "# Prepare the final balanced dataset\n",
        "balanced_data = {class_label: [] for class_label in range(num_classes)}\n",
        "\n",
        "pollution_count = 540\n",
        "for class_label in range(num_classes):\n",
        "    # Randomly sample 540 images to pollute and remove them\n",
        "    sampled_indices = np.random.choice(len(polluted_data[class_label]), pollution_count, replace=False)\n",
        "    polluted_images = [polluted_data[class_label][idx] for idx in sampled_indices]\n",
        "    remaining_images = [polluted_data[class_label][idx] for idx in range(len(polluted_data[class_label])) if idx not in sampled_indices]\n",
        "\n",
        "    # Evenly distribute polluted images across other classes\n",
        "    pollution_targets = [x for x in range(num_classes) if x != class_label]\n",
        "    target_distribution = {target: [] for target in pollution_targets}\n",
        "\n",
        "    for i, (image, _) in enumerate(polluted_images):\n",
        "        target_class = pollution_targets[i % len(pollution_targets)]\n",
        "        target_distribution[target_class].append((image, target_class))\n",
        "\n",
        "    # Add polluted images to their target classes\n",
        "    for target_class, polluted_set in target_distribution.items():\n",
        "        balanced_data[target_class].extend(polluted_set)\n",
        "\n",
        "    # Add the remaining unpolluted images (5460) to the current class\n",
        "    balanced_data[class_label].extend(remaining_images)\n",
        "\n",
        "# Flatten the balanced data into a single dataset\n",
        "flattened_polluted_data = []\n",
        "for class_label, items in balanced_data.items():\n",
        "    flattened_polluted_data.extend(items)\n",
        "\n",
        "# Verify the class sizes after balancing\n",
        "for class_label in range(num_classes):\n",
        "    count = sum(1 for _, label in flattened_polluted_data if label == class_label)\n",
        "    print(f\"Class {class_label} has {count} images after balancing.\")"
      ]
    },
    {
      "cell_type": "markdown",
      "id": "e4a03230",
      "metadata": {
        "id": "e4a03230"
      },
      "source": [
        "Q4 b\n",
        "\n",
        "The best set of parameters from Q3 experiemnts is: batch size 10, learning rate 0.01, momentum 0, 30 epochs, and ReLU activation"
      ]
    },
    {
      "cell_type": "code",
      "execution_count": null,
      "id": "3189c92e",
      "metadata": {
        "id": "3189c92e"
      },
      "outputs": [],
      "source": [
        "# For the balanced polluted data\n",
        "class PollutedDataset(Dataset):\n",
        "    def __init__(self, data):\n",
        "        self.data = data\n",
        "\n",
        "    def __len__(self):\n",
        "        return len(self.data)\n",
        "\n",
        "    def __getitem__(self, idx):\n",
        "        image, label = self.data[idx]\n",
        "        return image, label"
      ]
    },
    {
      "cell_type": "code",
      "execution_count": null,
      "id": "ad697029",
      "metadata": {
        "colab": {
          "base_uri": "https://localhost:8080/"
        },
        "id": "ad697029",
        "outputId": "18d97f41-9cac-4847-ce94-75428f0ef46f"
      },
      "outputs": [
        {
          "output_type": "stream",
          "name": "stdout",
          "text": [
            "Epoch 1: Train Accuracy: 57.03% | Test Accuracy: 75.71% Train Loss: 1.3205 | Test Loss: 0.7065\n",
            "Epoch 2: Train Accuracy: 72.43% | Test Accuracy: 80.59% Train Loss: 0.9565 | Test Loss: 0.6124\n",
            "Epoch 3: Train Accuracy: 75.11% | Test Accuracy: 81.77% Train Loss: 0.8955 | Test Loss: 0.5938\n",
            "Epoch 4: Train Accuracy: 76.31% | Test Accuracy: 83.54% Train Loss: 0.8659 | Test Loss: 0.5204\n",
            "Epoch 5: Train Accuracy: 76.86% | Test Accuracy: 83.94% Train Loss: 0.8475 | Test Loss: 0.5138\n",
            "Epoch 6: Train Accuracy: 77.48% | Test Accuracy: 83.24% Train Loss: 0.8326 | Test Loss: 0.5198\n",
            "Epoch 7: Train Accuracy: 78.00% | Test Accuracy: 83.25% Train Loss: 0.8209 | Test Loss: 0.5457\n",
            "Epoch 8: Train Accuracy: 78.35% | Test Accuracy: 85.00% Train Loss: 0.8121 | Test Loss: 0.4771\n",
            "Epoch 9: Train Accuracy: 78.49% | Test Accuracy: 85.04% Train Loss: 0.8039 | Test Loss: 0.4815\n",
            "Epoch 10: Train Accuracy: 78.89% | Test Accuracy: 83.58% Train Loss: 0.7964 | Test Loss: 0.5080\n",
            "Epoch 11: Train Accuracy: 79.20% | Test Accuracy: 85.43% Train Loss: 0.7901 | Test Loss: 0.4734\n",
            "Epoch 12: Train Accuracy: 79.37% | Test Accuracy: 84.52% Train Loss: 0.7837 | Test Loss: 0.5043\n",
            "Epoch 13: Train Accuracy: 79.66% | Test Accuracy: 85.22% Train Loss: 0.7776 | Test Loss: 0.4716\n",
            "Epoch 14: Train Accuracy: 79.86% | Test Accuracy: 85.36% Train Loss: 0.7738 | Test Loss: 0.4676\n",
            "Epoch 15: Train Accuracy: 79.91% | Test Accuracy: 86.24% Train Loss: 0.7676 | Test Loss: 0.4612\n",
            "Epoch 16: Train Accuracy: 80.05% | Test Accuracy: 86.15% Train Loss: 0.7641 | Test Loss: 0.4580\n",
            "Epoch 17: Train Accuracy: 80.21% | Test Accuracy: 86.24% Train Loss: 0.7606 | Test Loss: 0.4653\n",
            "Epoch 18: Train Accuracy: 80.32% | Test Accuracy: 86.45% Train Loss: 0.7567 | Test Loss: 0.4622\n",
            "Epoch 19: Train Accuracy: 80.49% | Test Accuracy: 85.36% Train Loss: 0.7519 | Test Loss: 0.4650\n",
            "Epoch 20: Train Accuracy: 80.67% | Test Accuracy: 86.35% Train Loss: 0.7475 | Test Loss: 0.4471\n",
            "Batch Size: 10, Learning Rate: 0.1, Activation: sigmoid, Final Train Accuracy: 80.67%, Final Test Accuracy: 86.35%\n"
          ]
        }
      ],
      "source": [
        "polluted_trainset = PollutedDataset(flattened_polluted_data)\n",
        "\n",
        "# Train the 2FC NN model using polluted data\n",
        "# Define hyperparameters\n",
        "batch_size = 10\n",
        "learning_rate = 0.1\n",
        "activation = 'sigmoid'  # Can be 'relu' or 'sigmoid'\n",
        "epochs = 20\n",
        "\n",
        "# Initialize the model\n",
        "model = TwoFCLayersWithFlexibleActivation(activation=activation)\n",
        "\n",
        "# Train and evaluate\n",
        "model, train_accuracy, test_accuracy = train_and_evaluate(model, batch_size, learning_rate, activation, epochs, polluted_trainset, testset)"
      ]
    },
    {
      "cell_type": "markdown",
      "id": "5acfbb85",
      "metadata": {
        "id": "5acfbb85"
      },
      "source": [
        "Q5"
      ]
    },
    {
      "cell_type": "markdown",
      "id": "06f6d704",
      "metadata": {
        "id": "06f6d704"
      },
      "source": [
        "Shift to right by 2 pixels"
      ]
    },
    {
      "cell_type": "code",
      "execution_count": null,
      "id": "6a14036b",
      "metadata": {
        "colab": {
          "base_uri": "https://localhost:8080/"
        },
        "id": "6a14036b",
        "outputId": "08c87672-a69b-4679-c511-61a259befa28"
      },
      "outputs": [
        {
          "output_type": "stream",
          "name": "stdout",
          "text": [
            "Classification Accuracy after circular shift: 49.94%\n"
          ]
        }
      ],
      "source": [
        "import torch\n",
        "import torchvision\n",
        "import torchvision.transforms as transforms\n",
        "import numpy as np\n",
        "\n",
        "# Define the function to circularly shift an image right by 2 pixels\n",
        "def circular_shift_right(image, shift=2):\n",
        "    # Convert the image to a NumPy array for easy slicing\n",
        "    image = image.numpy()\n",
        "    shifted_image = np.zeros_like(image)  # Create a placeholder for the shifted image\n",
        "    for i in range(image.shape[0]):  # Loop through rows\n",
        "        # Perform the circular shift\n",
        "        shifted_image[i] = np.concatenate((image[i, -shift:], image[i, :-shift]))\n",
        "    return torch.tensor(shifted_image)\n",
        "\n",
        "# Load the trained model with best parameter set in Q3\n",
        "model.load_state_dict(torch.load('best_model_parameter.pth'))\n",
        "model.eval()  # Set the model to evaluation mode\n",
        "\n",
        "# Evaluate the model on circularly shifted images\n",
        "correct = 0\n",
        "total = 0\n",
        "\n",
        "testloader = DataLoader(testset, batch_size=batch_size, shuffle=False)\n",
        "\n",
        "with torch.no_grad():\n",
        "    for images, labels in testloader:\n",
        "        shifted_images = torch.stack([circular_shift_right(img.squeeze()) for img in images])  # Shift all batch images\n",
        "        shifted_images = shifted_images.unsqueeze(1)  # Add a channel dimension\n",
        "        outputs = model(shifted_images)\n",
        "        _, predicted = torch.max(outputs, 1)  # Get the index of the max log-probability\n",
        "        total += labels.size(0)\n",
        "        correct += (predicted == labels).sum().item()\n",
        "\n",
        "# Calculate classification accuracy\n",
        "accuracy = correct / total * 100\n",
        "print(f'Classification Accuracy after circular shift: {accuracy:.2f}%')"
      ]
    },
    {
      "cell_type": "markdown",
      "id": "2e5b35ec",
      "metadata": {
        "id": "2e5b35ec"
      },
      "source": [
        "Shift to down by 2 pixels"
      ]
    },
    {
      "cell_type": "code",
      "execution_count": null,
      "id": "8b5bfae3",
      "metadata": {
        "colab": {
          "base_uri": "https://localhost:8080/"
        },
        "id": "8b5bfae3",
        "outputId": "f3c31d3c-b906-4fd5-c43f-48d83ee7c01e"
      },
      "outputs": [
        {
          "output_type": "stream",
          "name": "stdout",
          "text": [
            "Classification Accuracy after circular shift: 67.06%\n"
          ]
        }
      ],
      "source": [
        "import torch\n",
        "import numpy as np\n",
        "\n",
        "# Define the function to circularly shift an image down by 2 pixels\n",
        "def circular_shift_down(image, shift=2):\n",
        "    image = image.numpy()\n",
        "    shifted_image = np.zeros_like(image)\n",
        "    shifted_image[shift:, :] = image[:-shift, :]  # Move the upper part down\n",
        "    shifted_image[:shift, :] = image[-shift:, :]  # Wrap the bottom part to the top\n",
        "    return torch.tensor(shifted_image)\n",
        "\n",
        "\n",
        "# Load the trained model with best parameter set in Q3\n",
        "model.load_state_dict(torch.load('best_model_parameter.pth'))\n",
        "model.eval()  # Set the model to evaluation mode\n",
        "\n",
        "# Evaluate the model on circularly shifted images\n",
        "correct = 0\n",
        "total = 0\n",
        "\n",
        "with torch.no_grad():\n",
        "    for images, labels in testloader:\n",
        "        shifted_images = torch.stack([circular_shift_down(img.squeeze()) for img in images])  # Shift all batch images\n",
        "        shifted_images = shifted_images.unsqueeze(1)  # Add a channel dimension\n",
        "        outputs = model(shifted_images)\n",
        "        _, predicted = torch.max(outputs, 1)  # Get the index of the max log-probability\n",
        "        total += labels.size(0)\n",
        "        correct += (predicted == labels).sum().item()\n",
        "\n",
        "# Calculate classification accuracy\n",
        "accuracy = correct / total * 100\n",
        "print(f'Classification Accuracy after circular shift: {accuracy:.2f}%')"
      ]
    },
    {
      "cell_type": "code",
      "execution_count": null,
      "id": "3563b3b6",
      "metadata": {
        "colab": {
          "base_uri": "https://localhost:8080/",
          "height": 323
        },
        "id": "3563b3b6",
        "outputId": "4fb6e547-6e09-45dc-f742-2aafc0a15d43"
      },
      "outputs": [
        {
          "output_type": "display_data",
          "data": {
            "text/plain": [
              "<Figure size 1200x400 with 3 Axes>"
            ],
            "image/png": "[encoded data removed]"
          },
          "metadata": {}
        }
      ],
      "source": [
        "# Double check if images shifted correctly\n",
        "import matplotlib.pyplot as plt\n",
        "\n",
        "# Extract the first image and label from the test loader\n",
        "images, labels = next(iter(testloader))\n",
        "original_image = images[0].squeeze()  # Get the first image and remove channel dimension\n",
        "\n",
        "# Apply the shift functions\n",
        "right_shifted_image = circular_shift_right(original_image, shift=2)\n",
        "down_shifted_image = circular_shift_down(original_image, shift=2)\n",
        "\n",
        "# Define a helper function to visualize the images\n",
        "def show_images(original, right_shifted, down_shifted):\n",
        "    fig, axes = plt.subplots(1, 3, figsize=(12, 4))\n",
        "    titles = [\"Original\", \"Right Shifted\", \"Down Shifted\"]\n",
        "    images = [original, right_shifted, down_shifted]\n",
        "\n",
        "    for ax, img, title in zip(axes, images, titles):\n",
        "        ax.imshow(img.numpy(), cmap='gray')\n",
        "        ax.set_title(title)\n",
        "        ax.axis('off')\n",
        "\n",
        "    plt.tight_layout()\n",
        "    plt.show()\n",
        "\n",
        "# Visualize the original and shifted images\n",
        "show_images(original_image, right_shifted_image, down_shifted_image)"
      ]
    },
    {
      "cell_type": "markdown",
      "id": "414f3a63",
      "metadata": {
        "id": "414f3a63"
      },
      "source": [
        "Q6\n",
        "Took this photo with iPhone 13, and switched from .HEIC to .JPG using a converter."
      ]
    },
    {
      "cell_type": "markdown",
      "id": "074de7cc",
      "metadata": {
        "id": "074de7cc"
      },
      "source": [
        "![shirt.jpg](attachment:shirt.jpg)"
      ]
    },
    {
      "cell_type": "code",
      "execution_count": null,
      "id": "8fa98c69",
      "metadata": {
        "colab": {
          "base_uri": "https://localhost:8080/",
          "height": 483
        },
        "id": "8fa98c69",
        "outputId": "6c44c635-8616-4a1b-f8ab-eb921348022f"
      },
      "outputs": [
        {
          "output_type": "display_data",
          "data": {
            "text/plain": [
              "<Figure size 640x480 with 1 Axes>"
            ],
            "image/png": "[encoded data removed]"
          },
          "metadata": {}
        },
        {
          "output_type": "stream",
          "name": "stdout",
          "text": [
            "Predicted Class: 6\n",
            "Class Probabilities: [0.02345973253250122, 0.0007377225556410849, 0.35974928736686707, 0.004515283741056919, 0.034889448434114456, 2.1722609744756483e-05, 0.5473917126655579, 8.415467078748406e-08, 0.029218802228569984, 1.6260595657513477e-05]\n"
          ]
        }
      ],
      "source": [
        "import torch\n",
        "import torchvision.transforms as transforms\n",
        "import matplotlib.pyplot as plt\n",
        "from PIL import Image, ImageOps\n",
        "\n",
        "# Load the saved model\n",
        "# model = TwoFCLayersWithFlexibleActivation(activation='relu')\n",
        "model.load_state_dict(torch.load('best_model_parameter.pth'))\n",
        "model.eval()\n",
        "\n",
        "# Define the transformations\n",
        "transform = transforms.Compose([\n",
        "    transforms.Grayscale(),                    # Convert to grayscale\n",
        "    transforms.Resize((28, 28)),               # Resize to 28x28\n",
        "    transforms.ToTensor(),                     # Convert to tensor and normalize\n",
        "])\n",
        "\n",
        "# Load and process the image\n",
        "image_path = 'shirt.jpg'  # Replace with your image path\n",
        "image = Image.open(image_path)\n",
        "\n",
        "# Convert the image to grayscale and invert colors\n",
        "# Origianlly the image I took has white background and pants color is black,\n",
        "# but I found that the training dataset's examples are having black background and white garment.\n",
        "image = ImageOps.grayscale(image)  # Convert to grayscale\n",
        "image = ImageOps.invert(image)     # Invert colors\n",
        "\n",
        "\n",
        "# Apply transformations\n",
        "image_tensor = transform(image).unsqueeze(0)  # Add batch dimension\n",
        "\n",
        "# Visualize the preprocessed image\n",
        "processed_image = transforms.ToPILImage()(image_tensor.squeeze(0))  # Convert tensor to PIL Image\n",
        "plt.imshow(processed_image, cmap=\"gray\")  # Display as grayscale image\n",
        "plt.title(\"Processed Grayscale Image\")\n",
        "plt.axis(\"off\")\n",
        "plt.show()\n",
        "\n",
        "# Classify the image\n",
        "with torch.no_grad():\n",
        "    outputs = model(image_tensor)\n",
        "    probabilities = torch.softmax(outputs, dim=1)  # Convert to probabilities\n",
        "    predicted_class = torch.argmax(probabilities, dim=1).item()\n",
        "\n",
        "# Print the results\n",
        "print(f\"Predicted Class: {predicted_class}\")\n",
        "print(f\"Class Probabilities: {probabilities.squeeze().tolist()}\")\n"
      ]
    },
    {
      "cell_type": "code",
      "source": [
        "import tarfile\n",
        "import shutil\n",
        "\n",
        "notebook_filename = '/content/drive/My Drive/Colab Notebooks/CS540 Programming Assignment #1 - Saeah Go.ipynb'\n",
        "\n",
        "# Create a .tar.gz archive\n",
        "with tarfile.open('saeah_go_hw1.tar.gz', 'w:gz') as tar:\n",
        "    tar.add(notebook_filename)\n",
        "\n",
        "# Optionally, you can move the created archive to a specific directory\n",
        "shutil.move('saeah_go_hw1.tar.gz', '/content/drive/My Drive/')"
      ],
      "metadata": {
        "colab": {
          "base_uri": "https://localhost:8080/",
          "height": 35
        },
        "id": "qbdVOdXSn-OX",
        "outputId": "c28d47e6-f32b-4f1e-a4de-aeedb62d5a63"
      },
      "id": "qbdVOdXSn-OX",
      "execution_count": null,
      "outputs": [
        {
          "output_type": "execute_result",
          "data": {
            "text/plain": [
              "'/content/drive/My Drive/saeah_go_hw1.tar.gz'"
            ],
            "application/vnd.google.colaboratory.intrinsic+json": {
              "type": "string"
            }
          },
          "metadata": {},
          "execution_count": 25
        }
      ]
    },
    {
      "cell_type": "code",
      "source": [
        "import os\n",
        "print(os.listdir('/content/drive/My Drive/Colab Notebooks/'))\n"
      ],
      "metadata": {
        "colab": {
          "base_uri": "https://localhost:8080/"
        },
        "id": "KwYTLwUOozW6",
        "outputId": "6273c0d8-8bbd-416b-a39c-6f77207f68af"
      },
      "id": "KwYTLwUOozW6",
      "execution_count": null,
      "outputs": [
        {
          "output_type": "stream",
          "name": "stdout",
          "text": [
            "['Numpy_tutorial.ipynb', 'MTH371 - HW 1 Draft 1', 'HW2_raw01312022.ipynb', 'HW2_raw.ipynb', 'Networkx_walkthrough_new(1)-1.ipynb', 'MTH371 Saeah Go HW #2.ipynb', '(Python) Water Quality - open shapefile.ipynb', '(R) Water Quality.ipynb', 'Copy of hw4_with_guide.ipynb', 'CS445 HW#1 Q11 (Perceptron with MNIST).ipynb', 'Copy of CS445 HW#1 Q11 (Perceptron with MNIST).ipynb', 'Correct Ver CS445 HW#1 Q11 (Perceptron with MNIST).ipynb', 'Draft 3 CS445 Programming 1-incorrect.ipynb', 'Draft 2 CS445 Programming 1.ipynb', 'Draft 4 CS445 Programming 1.ipynb', 'Draft 5 CS445 Programming 1 - For Experiment 3.ipynb', 'Copy of Program#1 Yifan.ipynb', 'Gradient Descent (GD) Algorithm.ipynb', 'Draft 6 CS445 Programming 1.ipynb', 'Untitled0.ipynb', 'Programming 2 Draft1.ipynb', 'Hw1_notebook (1).ipynb', 'Spectral Clustering, K-means Clustering.ipynb', \"Implementation of Luby's Algorithm.ipynb\", 'Copy of K-Means Clustering (Program 3).ipynb', 'K-Means Clustering (Program 3).ipynb', 'Untitled (2)', 'Hw1_notebook.ipynb', 'Final Ver CS445 HW#1 Q11 (Perceptron with MNIST).ipynb', 'McKinsey Technical Interview Prep.ipynb', 'CREC 2022 All Staff Training Survey Visualization.ipynb', 'Copy of CREC 2022 All Staff Training Survey Visualization.ipynb', 'Untitled (1)', 'CS441 Programming1 Draft2.ipynb', 'CS441 Programming1 Draft3.ipynb', 'CS441 Programming1 Draft4.ipynb', 'CS441 Programming1 Draft5.ipynb', 'CS441 HW #2 Gradient Descent (GD) Algorithm.ipynb', 'NCHA Survey.ipynb', 'Final version of CS441 Programming 2.ipynb', 'CS441 HW1 Q10.ipynb', 'CS441 Programming 3 Draft.ipynb', 'CS441 Programming 3.ipynb', 'Test 1 kid of TSP Genetic Algorithm.ipynb', 'CS441 Group Project Greedy Search.ipynb', 'CS441 Group Project Genetic Algorithm.ipynb', 'Untitled1.ipynb', 'BTA419 Textbook.ipynb', 'BTA419 Midterm.ipynb', 'Copy of Yifan CS441 Programming#2.ipynb', 'Yifan Test TSP Genetic Algorithm.ipynb', 'Copy of CS445_GroupProject_ModelComparisons.ipynb', 'saeah-go-bta419-w23.ipynb', 'saeahgo-bta419-w23 draft2.ipynb', 'huayu-wu-bta-419-individual-youtube-video-analysis .ipynb', 'CH2-Auto.ipynb', 'HW1.ipynb', 'CH5-Housing.ipynb', 'CH6-BreastCancer.ipynb', 'HW2-3.ipynb', 'Untitled', 'CH7-Class-Gradient.ipynb', 'CH7-GradDecent.ipynb', 'Untitled2.ipynb', 'CH8-SVM.ipynb', 'HW3-1.ipynb', 'CS445 Programming 1.ipynb', 'CS545 HW4 Q5.ipynb', 'ML Final Exam.ipynb', 'CS540 Deep Learning Final Project.ipynb', 'references.bib', 'Saeah Problem Set 0.pdf', 'Saeah Problem Set 0.ipynb', 'Problem Set Image Denoise - Hints.ipynb', 'Copy of CS540 Programming Assignment #1 Experiment.ipynb', 'CS540 Programming Assignment #1 Experiment.ipynb', 'Another copy of CS540 Programming Assignment #1 Experiment.ipynb', 'Saeah Problem Set 1.pdf', 'CS540 Assignment 1 Training Test Accuracy.ipynb', 'CS540 Programming Assignment #1 -Q3 exp 2.ipynb', 'CS540 Programming Assignment #1 -Q3 exp 1.ipynb', 'Saeah Problem Set 1.ipynb', 'CS540 Programming Assignment #1 -Q3 exp 3.ipynb', 'CS540 Programming Assignment #1 - Saeah Go.ipynb']\n"
          ]
        }
      ]
    },
    {
      "cell_type": "code",
      "source": [
        "from google.colab import drive\n",
        "drive.mount('/content/drive')\n"
      ],
      "metadata": {
        "colab": {
          "base_uri": "https://localhost:8080/"
        },
        "id": "vTG7KIvBo4eE",
        "outputId": "645a82ca-6000-45b9-9285-d0c1649f5fc3"
      },
      "id": "vTG7KIvBo4eE",
      "execution_count": null,
      "outputs": [
        {
          "output_type": "stream",
          "name": "stdout",
          "text": [
            "Mounted at /content/drive\n"
          ]
        }
      ]
    }
  ],
  "metadata": {
    "kernelspec": {
      "display_name": "Python 3 (ipykernel)",
      "language": "python",
      "name": "python3"
    },
    "language_info": {
      "codemirror_mode": {
        "name": "ipython",
        "version": 3
      },
      "file_extension": ".py",
      "mimetype": "text/x-python",
      "name": "python",
      "nbconvert_exporter": "python",
      "pygments_lexer": "ipython3",
      "version": "3.12.8"
    },
    "colab": {
      "provenance": []
    }
  },
  "nbformat": 4,
  "nbformat_minor": 5
}